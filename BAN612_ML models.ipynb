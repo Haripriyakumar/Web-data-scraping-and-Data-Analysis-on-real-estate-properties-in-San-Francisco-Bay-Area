{
 "cells": [
  {
   "cell_type": "code",
   "execution_count": null,
   "metadata": {},
   "outputs": [],
   "source": [
    "from sklearn.model_selection import train_test_split\n",
    "from sklearn.linear_model import LinearRegression, Lasso, Ridge,RidgeCV, LassoCV, BayesianRidge,ElasticNet,ElasticNetCV\n",
    "\n",
    "from sklearn import preprocessing  # imputing and scale\n",
    "\n",
    "from dmba import regressionSummary, exhaustive_search\n",
    "from dmba import backward_elimination, forward_selection,stepwise_selection\n",
    "from dmba import adjusted_r2_score, AIC_score, BIC_score\n",
    "\n",
    "import itertools \n",
    "\n",
    "from sklearn.metrics import mean_absolute_error \n",
    "from sklearn.metrics import mean_squared_error   #RMSE\n",
    "\n",
    "predictors = ['Bed',\n",
    "       'Bath', 'House_size', 'Year_Built', 'Parking', 'Lot',\n",
    "       'HOA', 'Price_Sqft', 'walk_score', 'transit_score']\n",
    "outcome = 'List_price'"
   ]
  },
  {
   "cell_type": "code",
   "execution_count": null,
   "metadata": {},
   "outputs": [],
   "source": [
    "X = zillow_reg[predictors]\n",
    "y = zillow_reg[outcome]"
   ]
  },
  {
   "cell_type": "code",
   "execution_count": null,
   "metadata": {},
   "outputs": [],
   "source": [
    "train_X, temp_X, train_y, temp_y = train_test_split(X, y, test_size=0.5, random_state=1)\n",
    "valid_X, test_X, valid_y, test_y = train_test_split(temp_X, temp_y, test_size=0.3, random_state=1)\n",
    "\n",
    "print('Training : ', train_X.shape)\n",
    "print('Validation : ', valid_X.shape)\n",
    "print('Test : ', test_X.shape)"
   ]
  },
  {
   "cell_type": "code",
   "execution_count": null,
   "metadata": {},
   "outputs": [],
   "source": [
    "#train model using training data\n",
    "train_X"
   ]
  },
  {
   "cell_type": "code",
   "execution_count": null,
   "metadata": {},
   "outputs": [],
   "source": [
    "#actual value\n",
    "train_y"
   ]
  },
  {
   "cell_type": "markdown",
   "metadata": {},
   "source": [
    "# Linear regression"
   ]
  },
  {
   "cell_type": "code",
   "execution_count": null,
   "metadata": {},
   "outputs": [],
   "source": [
    "lm = LinearRegression()\n",
    "lm.fit(train_X,train_y)"
   ]
  },
  {
   "cell_type": "code",
   "execution_count": null,
   "metadata": {},
   "outputs": [],
   "source": [
    "print(pd.DataFrame({'Predictor': X.columns, 'coefficient':\n",
    "(lm.coef_)}))"
   ]
  },
  {
   "cell_type": "code",
   "execution_count": null,
   "metadata": {},
   "outputs": [],
   "source": [
    "# Regression Summary - RMSE, MAE, MPE, MAPE\n",
    "regressionSummary(train_y, lm.predict(train_X))"
   ]
  },
  {
   "cell_type": "code",
   "execution_count": null,
   "metadata": {},
   "outputs": [],
   "source": [
    "lm_pred = lm.predict(valid_X)"
   ]
  },
  {
   "cell_type": "code",
   "execution_count": null,
   "metadata": {},
   "outputs": [],
   "source": [
    "result = pd.DataFrame({'Predicted': lm_pred, 'Actual':\n",
    "valid_y,'Residual': valid_y - lm_pred})\n",
    "print(result.head(20))"
   ]
  },
  {
   "cell_type": "code",
   "execution_count": null,
   "metadata": {},
   "outputs": [],
   "source": [
    "regressionSummary(valid_y, lm_pred)"
   ]
  },
  {
   "cell_type": "code",
   "execution_count": null,
   "metadata": {},
   "outputs": [],
   "source": [
    "lm_pred = lm.predict(valid_X)\n",
    "all_residuals = valid_y - lm_pred\n",
    "# Determine the percentage of datapoints with a residual in [-1406, 1406] = approx.\n",
    "# 75%\n",
    "print(len(all_residuals[(all_residuals > -1406) & (all_residuals < 1406)]) / len(all_residuals))\n",
    "pd.DataFrame(all_residuals).hist(bins=25)\n",
    "plt.show()"
   ]
  },
  {
   "cell_type": "code",
   "execution_count": null,
   "metadata": {},
   "outputs": [],
   "source": [
    "def findsubsets(s, n): \n",
    "    return list(map(set, itertools.combinations(s, n)))"
   ]
  },
  {
   "cell_type": "code",
   "execution_count": null,
   "metadata": {},
   "outputs": [],
   "source": [
    "findsubsets(train_X.columns,49)"
   ]
  },
  {
   "cell_type": "code",
   "execution_count": null,
   "metadata": {},
   "outputs": [],
   "source": [
    "lm = LinearRegression()\n",
    "lm.fit(train_X,train_y)"
   ]
  },
  {
   "cell_type": "code",
   "execution_count": null,
   "metadata": {},
   "outputs": [],
   "source": [
    "model=LinearRegression()\n",
    "reg  = model.fit(train_X, train_y) #\n",
    "#features -> train_X\n",
    "#outcome -> train_y\n",
    "#training data predictor/features and the actual #\n",
    "            \n",
    "#how did we do against the training set\n",
    "\n",
    "pred_train = reg.predict(train_X)  #predicts outcome training data\n",
    "\n",
    "pred_valid = reg.predict(valid_X)  #predicts outcome using the validation data\n",
    "\n",
    "print(\"train RMSE: \"+str(mean_squared_error(train_y,pred_train)))\n",
    "\n",
    "print(\"validation RMSE: \"+str(mean_squared_error(valid_y,pred_valid)))"
   ]
  },
  {
   "cell_type": "code",
   "execution_count": null,
   "metadata": {},
   "outputs": [],
   "source": [
    "def exhaustive(model,train_X,train_y,valid_X,valid_y):\n",
    "    low_err=600000**2\n",
    "\n",
    "    for x in range(len(train_X.columns),0,-1):\n",
    "        n=x\n",
    "        #print(\"number of features \"+str(n))\n",
    "        ss=findsubsets(train_X.columns,n)\n",
    "        print(\"_\"*50)\n",
    "        print(str(len(ss))+\" model(s) using \"+ str(n)+ \" features\")\n",
    "        for z in range(0,len(ss)):\n",
    "        \n",
    "            model = model\n",
    "            reg  = model.fit(train_X[ss[z]], train_y)\n",
    "            pred_train = reg.predict(train_X[ss[z]])\n",
    "            err_train= mean_squared_error(train_y, pred_train)\n",
    "            \n",
    "            \n",
    "            pred_valid = reg.predict(valid_X[ss[z]])\n",
    "            err_valid = mean_squared_error(valid_y, pred_valid)\n",
    "            mae_valid = mean_absolute_error(valid_y,pred_valid)    \n",
    "        \n",
    "            if err_valid < low_err:\n",
    "                low_err=err_valid\n",
    "                low_err_features=list(ss[z])\n",
    "                print(\"_\"*50)\n",
    "                print(low_err_features)\n",
    "                print(\"RMSE train: \"+str(err_train ** .5))\n",
    "                print(\"MSE validation: \"+str(low_err))\n",
    "                print(\"RMSE validation: \"+str(low_err ** .5))\n",
    "                print(\"MAE validation: \"+str(mae_valid))\n",
    "                abs(valid_y-pred_valid).hist()\n",
    "                plt.show()\n",
    "                print(\"_\"*50)"
   ]
  },
  {
   "cell_type": "code",
   "execution_count": null,
   "metadata": {},
   "outputs": [],
   "source": [
    "exhaustive(model=LinearRegression(normalize=True,n_jobs=-1), train_X=train_X, train_y=train_y,valid_X=valid_X,valid_y=valid_y )"
   ]
  },
  {
   "cell_type": "markdown",
   "metadata": {},
   "source": [
    "# Random Forest Regressor"
   ]
  },
  {
   "cell_type": "code",
   "execution_count": null,
   "metadata": {},
   "outputs": [],
   "source": [
    "from sklearn.ensemble import RandomForestRegressor\n",
    "\n",
    "random_reg = RandomForestRegressor()\n",
    "random_reg.fit(train_X,train_y)\n",
    "\n",
    "test_X = test_X[predictors]\n",
    "\n",
    "predicted_prices = random_reg.predict(test_X)\n",
    "print(predicted_prices)"
   ]
  },
  {
   "cell_type": "code",
   "execution_count": null,
   "metadata": {},
   "outputs": [],
   "source": [
    "test_X\n",
    "test_y"
   ]
  },
  {
   "cell_type": "markdown",
   "metadata": {},
   "source": [
    "### GridSearchCV Using RandomForest Regressor\n"
   ]
  },
  {
   "cell_type": "code",
   "execution_count": null,
   "metadata": {},
   "outputs": [],
   "source": [
    "%matplotlib inline\n",
    "\n",
    "import pandas as pd\n",
    "import numpy as np\n",
    "from sklearn import preprocessing\n",
    "from sklearn.model_selection import train_test_split\n",
    "from sklearn.metrics import mean_absolute_error\n",
    "from sklearn.neighbors import KNeighborsRegressor\n",
    "import matplotlib.pylab as plt \n",
    "\n",
    "\n",
    "from sklearn.tree import DecisionTreeRegressor\n",
    "from sklearn.ensemble import RandomForestRegressor, GradientBoostingRegressor\n",
    "from sklearn.model_selection import GridSearchCV\n",
    "from dmba import plotDecisionTree\n",
    "\n",
    "from sklearn.metrics import mean_squared_error\n",
    "\n",
    "\n",
    "\n",
    "# user grid search to find optimized tree\n",
    "\n",
    "param_grid = {\n",
    "    'max_depth': [5],#list(np.arange(6,12)), \n",
    "    'min_samples_split':[5],# list(np.arange(1,8)), \n",
    "    'max_leaf_nodes': [52],#list(np.arange(35,54)),  \n",
    "#    'min_samples_leaf':  list(np.arange(2,6)) , #does not improve MSE\n",
    "#    'max_features': [7],    \n",
    "#    'n_estimators': list(np.arange(10,150,10))#list(np.arange(100,1200,200)),\n",
    "}\n",
    "gridSearch = GridSearchCV(RandomForestRegressor(random_state=1), \n",
    "                          param_grid, cv=5, n_jobs=-1)\n",
    "gridSearch.fit(train_X, train_y)\n",
    "print('Improved parameters: ', gridSearch.best_params_)\n",
    "\n",
    "rf = gridSearch.best_estimator_\n",
    "\n",
    "print(\"RMSE: \"+str(mean_squared_error(valid_y, rf.predict(valid_X))**.5))\n"
   ]
  },
  {
   "cell_type": "code",
   "execution_count": null,
   "metadata": {},
   "outputs": [],
   "source": [
    "# Variable importance\n",
    "importance = pd.DataFrame({'features': train_X.columns, \n",
    "                           'importance': rf.feature_importances_})\n",
    "importance.index=importance.features\n",
    "importance.sort_values(by='importance', ascending=True).plot.barh()"
   ]
  },
  {
   "cell_type": "markdown",
   "metadata": {},
   "source": [
    "### GridSearchCV using GradientBoostingRegressor"
   ]
  },
  {
   "cell_type": "code",
   "execution_count": null,
   "metadata": {},
   "outputs": [],
   "source": [
    "# user grid search to find optimized tree\n",
    "\n",
    "param_grid = {\n",
    "    \n",
    "    'learning_rate':list(np.arange(0.01,0.22,.01)),  #choose initial high learning rate\n",
    "    'min_samples_split': list(np.arange(3,7)),#'\n",
    "#    'min_samples_leaf': list(np.arange(2,5)) ,#does not reduce error\n",
    "#    'max_depth':list(np.arange(2,7)), #\n",
    "######    'subsample': list(np.arange(0.77,0.83,.01)),\n",
    "    'max_leaf_nodes': list(np.arange(4,7)), \n",
    "#    'max_features': [2,3,4,5,6,7], \n",
    "}\n",
    "\n",
    "gridSearch = GridSearchCV(GradientBoostingRegressor(random_state=1), \n",
    "                          param_grid, cv=5, n_jobs=-1)\n",
    "gridSearch.fit(train_X, train_y)\n",
    "print('Improved parameters: ', gridSearch.best_params_)\n",
    "\n",
    "gbm = gridSearch.best_estimator_\n",
    "\n",
    "print(\"RMSE: \"+str(mean_squared_error(valid_y, gbm.predict(valid_X))**.5))"
   ]
  },
  {
   "cell_type": "code",
   "execution_count": null,
   "metadata": {},
   "outputs": [],
   "source": [
    "# Variable importance\n",
    "importance = pd.DataFrame({'features': train_X.columns, \n",
    "                           'importance': gbm.feature_importances_})\n",
    "importance.index=importance.features\n",
    "importance.sort_values(by='importance', ascending=True).plot.barh()"
   ]
  }
 ],
 "metadata": {
  "kernelspec": {
   "display_name": "Python 3",
   "language": "python",
   "name": "python3"
  },
  "language_info": {
   "codemirror_mode": {
    "name": "ipython",
    "version": 3
   },
   "file_extension": ".py",
   "mimetype": "text/x-python",
   "name": "python",
   "nbconvert_exporter": "python",
   "pygments_lexer": "ipython3",
   "version": "3.7.4"
  }
 },
 "nbformat": 4,
 "nbformat_minor": 2
}
